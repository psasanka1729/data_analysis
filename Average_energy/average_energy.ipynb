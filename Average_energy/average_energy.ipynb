{
 "cells": [
  {
   "cell_type": "markdown",
   "id": "c440d90a",
   "metadata": {},
   "source": [
    "This code take a text file of energy for different noise realizations and returns the average and standard deviation of energy."
   ]
  },
  {
   "cell_type": "code",
   "execution_count": 27,
   "id": "05a4ce19",
   "metadata": {},
   "outputs": [],
   "source": [
    "import numpy as np"
   ]
  },
  {
   "cell_type": "code",
   "execution_count": 28,
   "id": "f740093e",
   "metadata": {},
   "outputs": [],
   "source": [
    "'''\n",
    "                J = Index of Eigenvalue \n",
    "                P = Sorted Eigenvalue\n",
    "                S = Average Entanglement Entropy\n",
    "                \n",
    "'''\n",
    "L = 8\n",
    "N = 2**L-2\n",
    "\n",
    "\n",
    "'''\n",
    "    e_number = index of energy.\n",
    "    E = energy.\n",
    "'''\n",
    "e_number,E= np.loadtxt('average_energy_4000_4032_8.txt', delimiter = '\\t', unpack=True)"
   ]
  },
  {
   "cell_type": "code",
   "execution_count": 29,
   "id": "466512db",
   "metadata": {},
   "outputs": [],
   "source": [
    "'''  \n",
    "Reshaping the data into a matrix of size M x N. The resultant matrix will have\n",
    "the value of the first energy eigenstates for each disorders in the first column,\n",
    "the value of the second energy eigenstates for each disorders in the second column\n",
    "and so on. Summing each columns will result in an array of size 2^L-2 (i.e number\n",
    "of energies). Dividing each element in this array by M (number of disorders gives the\n",
    "average energy of each eigenstate)\n",
    "'''  \n",
    "\n",
    "\n",
    "\n",
    "M = int(len(E)/N)\n",
    "rm = np.matrix(np.reshape(E,(M, N)))"
   ]
  },
  {
   "cell_type": "code",
   "execution_count": 30,
   "id": "d20ffb83",
   "metadata": {},
   "outputs": [
    {
     "data": {
      "text/plain": [
       "(32, 254)"
      ]
     },
     "execution_count": 30,
     "metadata": {},
     "output_type": "execute_result"
    }
   ],
   "source": [
    "rm.shape"
   ]
  },
  {
   "cell_type": "code",
   "execution_count": 31,
   "id": "11b8a190",
   "metadata": {},
   "outputs": [],
   "source": [
    "r_avg = np.sum(rm, axis = 0)/M"
   ]
  },
  {
   "cell_type": "code",
   "execution_count": 32,
   "id": "6735f8b2",
   "metadata": {},
   "outputs": [],
   "source": [
    "r_avg_std = []\n",
    "for j in range(N):\n",
    "    r_avg_std.append((np.std(rm[:,j:j+1], axis = 0)/np.sqrt(N-1))[0,0]) # calculates the standard deviation of entropy array."
   ]
  },
  {
   "cell_type": "code",
   "execution_count": 33,
   "id": "d3296390-68dc-4b5a-b66e-0caf64303a72",
   "metadata": {},
   "outputs": [
    {
     "data": {
      "text/plain": [
       "0.9997763646878437"
      ]
     },
     "execution_count": 33,
     "metadata": {},
     "output_type": "execute_result"
    }
   ],
   "source": [
    "r_avg[0,1]\n",
    "#r_avg_std[1]"
   ]
  },
  {
   "cell_type": "code",
   "execution_count": 34,
   "id": "374182b1",
   "metadata": {},
   "outputs": [],
   "source": [
    "pf = open('average_energy_4000_4032_8_plot_data.txt','w')\n",
    "pf = open('average_energy_4000_4032_8_plot_data.txt','a')"
   ]
  },
  {
   "cell_type": "code",
   "execution_count": 35,
   "id": "4e001b4b",
   "metadata": {},
   "outputs": [],
   "source": [
    "for i in range(N):\n",
    "    pf.write(str(i+1)+'\\t'+ str(r_avg[0,i]) +'\\t' + str(r_avg_std[i])+'\\n')\n",
    "pf.close()"
   ]
  }
 ],
 "metadata": {
  "kernelspec": {
   "display_name": "Python 3 (ipykernel)",
   "language": "python",
   "name": "python3"
  },
  "language_info": {
   "codemirror_mode": {
    "name": "ipython",
    "version": 3
   },
   "file_extension": ".py",
   "mimetype": "text/x-python",
   "name": "python",
   "nbconvert_exporter": "python",
   "pygments_lexer": "ipython3",
   "version": "3.10.6"
  }
 },
 "nbformat": 4,
 "nbformat_minor": 5
}
