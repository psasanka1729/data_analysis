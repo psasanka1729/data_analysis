{
 "cells": [
  {
   "cell_type": "code",
   "execution_count": 4,
   "id": "b56c8561",
   "metadata": {},
   "outputs": [],
   "source": [
    "import os\n",
    "import numpy as np"
   ]
  },
  {
   "cell_type": "code",
   "execution_count": 2,
   "id": "053c3ec9",
   "metadata": {},
   "outputs": [],
   "source": [
    "Num_of_folders = 32\n",
    "my_filename = 'force_data.txt'"
   ]
  },
  {
   "cell_type": "code",
   "execution_count": 6,
   "id": "ccc762ab",
   "metadata": {},
   "outputs": [],
   "source": [
    "file1 = open(\"force_position.txt\",\"w\")"
   ]
  },
  {
   "cell_type": "code",
   "execution_count": 5,
   "id": "721be965",
   "metadata": {},
   "outputs": [],
   "source": [
    "def read_file(index):\n",
    "    try:\n",
    "        filename = my_filename\n",
    "        f = open(filename, 'rU')\n",
    "        text = f.read()\n",
    "        f.close()\n",
    "        \n",
    "    except IOError:\n",
    "        print('Problem reading: ' + filename)\n",
    "        \n",
    "    return text"
   ]
  },
  {
   "cell_type": "code",
   "execution_count": null,
   "id": "fd4786f9",
   "metadata": {},
   "outputs": [],
   "source": [
    "cwd = os.getcwd()\n",
    "for i in range(Num_of_folders):\n",
    "    folder_name = \"b\"+str(i)\n",
    "    os.chdir(folder_name)\n",
    "    file1 = open(\"force_position.txt\",\"a\")\n",
    "    \n",
    "    "
   ]
  }
 ],
 "metadata": {
  "kernelspec": {
   "display_name": "Python 3 (ipykernel)",
   "language": "python",
   "name": "python3"
  },
  "language_info": {
   "codemirror_mode": {
    "name": "ipython",
    "version": 3
   },
   "file_extension": ".py",
   "mimetype": "text/x-python",
   "name": "python",
   "nbconvert_exporter": "python",
   "pygments_lexer": "ipython3",
   "version": "3.10.6"
  }
 },
 "nbformat": 4,
 "nbformat_minor": 5
}
