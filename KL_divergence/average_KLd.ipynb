{
 "cells": [
  {
   "cell_type": "markdown",
   "id": "c440d90a",
   "metadata": {},
   "source": [
    "This code take a text file of level statistics for different noise realizations and returns the average and standard deviation of level statistics."
   ]
  },
  {
   "cell_type": "code",
   "execution_count": 50,
   "id": "05a4ce19",
   "metadata": {},
   "outputs": [],
   "source": [
    "import numpy as np"
   ]
  },
  {
   "cell_type": "code",
   "execution_count": 51,
   "id": "f740093e",
   "metadata": {},
   "outputs": [],
   "source": [
    "'''\n",
    "                J = Index of Eigenvalue \n",
    "                P = Sorted Eigenvalue\n",
    "                S = Average Entanglement Entropy\n",
    "                \n",
    "'''\n",
    "N = 2**8-1\n",
    "\n",
    "\n",
    "'''\n",
    "    J = index.\n",
    "    E = KLD\n",
    "'''\n",
    "e_number,r = np.loadtxt('KL_data_32_runs.txt', delimiter = '\\t', unpack=True)"
   ]
  },
  {
   "cell_type": "code",
   "execution_count": 52,
   "id": "466512db",
   "metadata": {},
   "outputs": [],
   "source": [
    "M = int(len(r)/N)\n",
    "rm = np.matrix(np.reshape(r,(M, N)))\n",
    "rm = rm[0:N,1:N]"
   ]
  },
  {
   "cell_type": "code",
   "execution_count": 53,
   "id": "9863f797-ac78-4ce7-8c88-b92b21889a3c",
   "metadata": {},
   "outputs": [
    {
     "data": {
      "text/plain": [
       "(32, 254)"
      ]
     },
     "execution_count": 53,
     "metadata": {},
     "output_type": "execute_result"
    }
   ],
   "source": [
    "rm.shape"
   ]
  },
  {
   "cell_type": "code",
   "execution_count": 54,
   "id": "11b8a190",
   "metadata": {},
   "outputs": [],
   "source": [
    "r_avg = np.sum(rm, axis = 0)/M"
   ]
  },
  {
   "cell_type": "code",
   "execution_count": 55,
   "id": "6735f8b2",
   "metadata": {},
   "outputs": [],
   "source": [
    "r_avg_std = []\n",
    "for j in range(N-1):\n",
    "    r_avg_std.append((np.std(rm[:,j:j+1], axis = 0)/np.sqrt(N-1))[0,0]) # calculates the standard deviation of entropy array."
   ]
  },
  {
   "cell_type": "code",
   "execution_count": 56,
   "id": "d3296390-68dc-4b5a-b66e-0caf64303a72",
   "metadata": {},
   "outputs": [
    {
     "data": {
      "text/plain": [
       "0.8753115123764372"
      ]
     },
     "execution_count": 56,
     "metadata": {},
     "output_type": "execute_result"
    }
   ],
   "source": [
    "r_avg[0,1]\n",
    "#r_avg_std[1]"
   ]
  },
  {
   "cell_type": "code",
   "execution_count": 57,
   "id": "374182b1",
   "metadata": {},
   "outputs": [],
   "source": [
    "pf = open('KL_divergence_32_runs_plot_data.txt','w')\n",
    "pf = open('KL_divergence_32_runs_plot_data.txt','a')"
   ]
  },
  {
   "cell_type": "code",
   "execution_count": 58,
   "id": "4e001b4b",
   "metadata": {},
   "outputs": [],
   "source": [
    "for i in range(N-1):\n",
    "    pf.write(str(i)+'\\t'+ str(r_avg[0,i]) +'\\t' + str(r_avg_std[i])+'\\n')\n",
    "pf.close()"
   ]
  }
 ],
 "metadata": {
  "kernelspec": {
   "display_name": "Python 3 (ipykernel)",
   "language": "python",
   "name": "python3"
  },
  "language_info": {
   "codemirror_mode": {
    "name": "ipython",
    "version": 3
   },
   "file_extension": ".py",
   "mimetype": "text/x-python",
   "name": "python",
   "nbconvert_exporter": "python",
   "pygments_lexer": "ipython3",
   "version": "3.9.12"
  }
 },
 "nbformat": 4,
 "nbformat_minor": 5
}
