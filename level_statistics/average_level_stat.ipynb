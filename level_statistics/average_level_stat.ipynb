{
 "cells": [
  {
   "cell_type": "markdown",
   "id": "c440d90a",
   "metadata": {},
   "source": [
    "This code take a text file of level statistics for different noise realizations and returns the average and standard deviation of level statistics."
   ]
  },
  {
   "cell_type": "code",
   "execution_count": 5,
   "id": "05a4ce19",
   "metadata": {},
   "outputs": [],
   "source": [
    "import numpy as np"
   ]
  },
  {
   "cell_type": "code",
   "execution_count": 6,
   "id": "f740093e",
   "metadata": {},
   "outputs": [],
   "source": [
    "'''\n",
    "                J = Index of Eigenvalue \n",
    "                P = Sorted Eigenvalue\n",
    "                S = Average Entanglement Entropy\n",
    "                \n",
    "'''\n",
    "N = 2**8-4\n",
    "\n",
    "\n",
    "'''\n",
    "    J = index of eigenvalue.\n",
    "    E = eigenvalue.\n",
    "    S = entropy.\n",
    "'''\n",
    "e_number,r = np.loadtxt('8_3000_3031_level_statistics_data.txt', delimiter = '\\t', unpack=True)"
   ]
  },
  {
   "cell_type": "code",
   "execution_count": 7,
   "id": "63e65fed-91bc-4793-b4c5-486705bd660b",
   "metadata": {},
   "outputs": [],
   "source": [
    "#len(r)\n",
    "#int(len(r)/N)\n",
    "#8064/32\n",
    "#N"
   ]
  },
  {
   "cell_type": "code",
   "execution_count": 8,
   "id": "466512db",
   "metadata": {},
   "outputs": [],
   "source": [
    "M = int(len(r)/N)\n",
    "rm = np.matrix(np.reshape(r,(M, N)))"
   ]
  },
  {
   "cell_type": "code",
   "execution_count": 9,
   "id": "11b8a190",
   "metadata": {},
   "outputs": [],
   "source": [
    "r_avg = np.sum(rm, axis = 0)/M"
   ]
  },
  {
   "cell_type": "code",
   "execution_count": 10,
   "id": "d2b6b808-2ec3-4bd3-87be-546ed96f2a9f",
   "metadata": {},
   "outputs": [],
   "source": [
    "#A = np.matrix([[1,2,3],\n",
    "               #[4,5,6],\n",
    "               #[7,8,9]])\n",
    "#np.std(A[:,0:1])/np.sqrt(3-1)"
   ]
  },
  {
   "cell_type": "code",
   "execution_count": 11,
   "id": "6735f8b2",
   "metadata": {},
   "outputs": [],
   "source": [
    "r_avg_std = []\n",
    "for j in range(N):\n",
    "    r_avg_std.append((np.std(rm[:,j:j+1], axis = 0)/np.sqrt(N-1))[0,0]) # calculates the standard deviation of entropy array."
   ]
  },
  {
   "cell_type": "code",
   "execution_count": 12,
   "id": "d3296390-68dc-4b5a-b66e-0caf64303a72",
   "metadata": {},
   "outputs": [
    {
     "data": {
      "text/plain": [
       "0.5909042859867525"
      ]
     },
     "execution_count": 12,
     "metadata": {},
     "output_type": "execute_result"
    }
   ],
   "source": [
    "r_avg[0,1]\n",
    "#r_avg_std[1]"
   ]
  },
  {
   "cell_type": "code",
   "execution_count": 13,
   "id": "374182b1",
   "metadata": {},
   "outputs": [],
   "source": [
    "pf = open('8_3000_3031_level_stat_plot_data.txt','w')\n",
    "pf = open('8_3000_3031_level_stat_plot_data.txt','a')"
   ]
  },
  {
   "cell_type": "code",
   "execution_count": 14,
   "id": "4e001b4b",
   "metadata": {},
   "outputs": [],
   "source": [
    "for i in range(N):\n",
    "    pf.write(str(i+1)+'\\t'+ str(r_avg[0,i]) +'\\t' + str(r_avg_std[i])+'\\n')\n",
    "pf.close()"
   ]
  }
 ],
 "metadata": {
  "kernelspec": {
   "display_name": "Python 3 (ipykernel)",
   "language": "python",
   "name": "python3"
  },
  "language_info": {
   "codemirror_mode": {
    "name": "ipython",
    "version": 3
   },
   "file_extension": ".py",
   "mimetype": "text/x-python",
   "name": "python",
   "nbconvert_exporter": "python",
   "pygments_lexer": "ipython3",
   "version": "3.9.12"
  }
 },
 "nbformat": 4,
 "nbformat_minor": 5
}
