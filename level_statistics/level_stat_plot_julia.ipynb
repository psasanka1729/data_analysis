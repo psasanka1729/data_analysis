{
 "cells": [
  {
   "cell_type": "code",
   "execution_count": 1,
   "id": "29f75a88-c382-4d7e-a462-ce3c32282d05",
   "metadata": {},
   "outputs": [],
   "source": [
    "using Plots\n",
    "using DelimitedFiles\n",
    "using ColorSchemes\n",
    "using LaTeXStrings"
   ]
  },
  {
   "cell_type": "code",
   "execution_count": 2,
   "id": "66cf1ff7-aaaa-44d0-8ba8-ef493047daa3",
   "metadata": {},
   "outputs": [],
   "source": [
    "file = raw\"10_1800_1816_level_stat_plot_data.txt\"\n",
    "M = readdlm(file)\n",
    "eigenvalue_index = M[:,1]; # eigenvalue index\n",
    "level_stat = M[:,2]; # level stat\n",
    "level_stat_std = M[:,3]; # level stat std"
   ]
  },
  {
   "cell_type": "code",
   "execution_count": 26,
   "id": "a301e5ed-949a-494c-9f47-247164ed593e",
   "metadata": {},
   "outputs": [],
   "source": [
    "gr()\n",
    "L = 12;\n",
    "S_Page = 0.5*L*log(2)-0.5\n",
    "MyTitle = \"Energy vs disorder\"#\"L = 12, Page Value = \"*string(round(0.5*L*log(2)-0.5;digits = 2))*\",Seed = 1917\";\n",
    "p = plot(eigenvalue_index,level_stat,\n",
    "    yerr = level_stat_std,\n",
    "    seriestype = :scatter,\n",
    "    markerstrokecolor = \"grey30\",\n",
    "    markerstrokewidth=1,\n",
    "    markersize=4,\n",
    "    thickness_scaling = 1.4,\n",
    "    #xlims=(0,2^10), \n",
    "    #ylims=(0.1,0.7),\n",
    "    #title = MyTitle,\n",
    "    label = \"\",\n",
    "    #legend = :bottomleft,\n",
    "    dpi=500,\n",
    "    #zcolor = entropy,\n",
    "    grid = true,\n",
    "    #colorbar_title = \"Average entanglement entropy\",\n",
    "    font=\"CMU Serif\",\n",
    "    #color = :jet1,\n",
    "    #:linear_bmy_10_95_c78_n256,#:diverging_rainbow_bgymr_45_85_c67_n256,#:linear_bmy_10_95_c78_n256,#:rainbow1,\n",
    "    right_margin = 5Plots.mm,\n",
    "    left_margin = Plots.mm,\n",
    "    titlefontsize=10,\n",
    "    guidefontsize=13,\n",
    "    tickfontsize=13,\n",
    "    legendfontsize=15,\n",
    "    )\n",
    "plot!(size=(900,600))\n",
    "#plot!(yticks = ([(-pi) : (-pi/2): (-pi/4): 0: (pi/4) : (pi/2) : pi;], [\"-\\pi\", \"-\\pi/2\", \"-\\pi/4\",\"0\",\"\\pi/4\",\"\\pi/2\",\"\\pi\"]))\n",
    "#hline!([[-3.11034138188]],lc=:magenta,linestyle= :dashdotdot,legend=false)\n",
    "#hline!([ [0]],lc=:magenta,linestyle= :dashdotdot,legend=false)\n",
    "#hline!([ [3.11034138188]],lc=:magenta,linestyle= :dashdotdot,legend=false)\n",
    "xlabel!(\"Eigenvalue index\")\n",
    "ylabel!(\"Level Statistics\")\n",
    "#savefig(\"10_level_stat_1800_1816.png\")"
   ]
  }
 ],
 "metadata": {
  "kernelspec": {
   "display_name": "Julia 1.8.1",
   "language": "julia",
   "name": "julia-1.8"
  },
  "language_info": {
   "file_extension": ".jl",
   "mimetype": "application/julia",
   "name": "julia",
   "version": "1.8.1"
  }
 },
 "nbformat": 4,
 "nbformat_minor": 5
}
