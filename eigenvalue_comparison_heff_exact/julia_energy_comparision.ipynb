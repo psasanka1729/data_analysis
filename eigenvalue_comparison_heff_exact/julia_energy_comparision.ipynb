{
 "cells": [
  {
   "cell_type": "code",
   "execution_count": 4,
   "id": "5bd4821a",
   "metadata": {},
   "outputs": [],
   "source": [
    "using Plots\n",
    "using DelimitedFiles\n",
    "using ColorSchemes\n",
    "#using CSV\n",
    "using LaTeXStrings\n",
    "#using PyPlot"
   ]
  },
  {
   "cell_type": "code",
   "execution_count": 7,
   "id": "b9bdcb1d-8169-415e-a7e1-e3f31d83a87b",
   "metadata": {},
   "outputs": [],
   "source": [
    "L = 4;"
   ]
  },
  {
   "cell_type": "code",
   "execution_count": 11,
   "id": "4b243981",
   "metadata": {},
   "outputs": [],
   "source": [
    "file = raw\"4_2000_eigenvalues_data.txt\"\n",
    "M = readdlm(file)\n",
    "delta = M[:,1]; # noise.\n",
    "exact = M[:,2]; # exact energy.\n",
    "effec = M[:,3]; # effective energy."
   ]
  },
  {
   "cell_type": "code",
   "execution_count": 8,
   "id": "c136456f-6290-4c28-9e05-2ac7c2cdfb63",
   "metadata": {},
   "outputs": [
    {
     "data": {
      "text/plain": [
       "0.8862943611198906"
      ]
     },
     "execution_count": 8,
     "metadata": {},
     "output_type": "execute_result"
    }
   ],
   "source": [
    "S_Page = 0.5*L*log(2)-0.5"
   ]
  },
  {
   "cell_type": "code",
   "execution_count": 88,
   "id": "c9f7da85",
   "metadata": {},
   "outputs": [],
   "source": [
    "gr()\n",
    "L = 12;\n",
    "S_Page = 0.5*L*log(2)-0.5\n",
    "MyTitle = \"L = 4 \";\n",
    "p = plot(delta,exact,\n",
    "    seriestype = :scatter,\n",
    "    markercolor = \"firebrick1 \",#\"red2\",\n",
    "    markerstrokewidth=0.0,\n",
    "    markersize=3.2,\n",
    "    thickness_scaling = 1.4,\n",
    "    xlims=(0,0.3), \n",
    "    ylims=(-3.14,3.14),\n",
    "    #title = MyTitle,\n",
    "    label = \"Exact energy\",\n",
    "    legend = :bottomleft,\n",
    "    dpi=500,\n",
    "    #zcolor = entropy,\n",
    "    grid = false,\n",
    "    #colorbar_title = \"Average entanglement entropy\",\n",
    "    font=\"CMU Serif\",\n",
    "    color = :jet1,\n",
    "    #:linear_bmy_10_95_c78_n256,#:diverging_rainbow_bgymr_45_85_c67_n256,#:linear_bmy_10_95_c78_n256,#:rainbow1,\n",
    "    right_margin = 5Plots.mm,\n",
    "    left_margin = Plots.mm,\n",
    "    titlefontsize=10,\n",
    "    guidefontsize=13,\n",
    "    tickfontsize=13,\n",
    "    legendfontsize=15,\n",
    "    framestyle = :box\n",
    "    )\n",
    "\n",
    "p = plot!(delta,effec,\n",
    "    seriestype = :scatter,\n",
    "    markercolor = \"blue2\",\n",
    "    markershape=:pentagon,#:diamond,\n",
    "    markerstrokewidth=0.0,\n",
    "    markersize=2.2,\n",
    "    thickness_scaling = 1.4,\n",
    "    xlims=(0,0.3), \n",
    "    ylims=(-3.14,3.14),\n",
    "    #title = MyTitle,\n",
    "    label = \"Effective energy\",\n",
    "    legend = :bottomleft,\n",
    "    dpi=500,\n",
    "    #zcolor = entropy,\n",
    "    grid = false,\n",
    "    #colorbar_title = \"Average entanglement entropy\",\n",
    "    font=\"CMU Serif\",\n",
    "    #color = :jet1,\n",
    "    #:linear_bmy_10_95_c78_n256,#:diverging_rainbow_bgymr_45_85_c67_n256,#:linear_bmy_10_95_c78_n256,#:rainbow1,\n",
    "    right_margin = 5Plots.mm,\n",
    "    left_margin = Plots.mm,\n",
    "    titlefontsize=10,\n",
    "    guidefontsize=13,\n",
    "    tickfontsize=13,\n",
    "    legendfontsize=15,\n",
    "    framestyle = :box\n",
    "    )\n",
    "\n",
    "plot!(size=(830,700))\n",
    "#plot!(yticks = ([(-pi) : (-pi/2): (-pi/4): 0: (pi/4) : (pi/2) : pi;], [\"-\\\\pi\", \"-\\\\pi/2\", \"-\\\\pi/4\",\"0\",\"\\\\pi/4\",\"\\\\pi/2\",\"\\\\pi\"]))\n",
    "#hline!([[-3.11034138188]],lc=:magenta,linestyle= :dashdotdot,legend=false)\n",
    "#hline!([ [0]],lc=:magenta,linestyle= :dashdotdot,legend=false)\n",
    "#hline!([ [3.11034138188]],lc=:magenta,linestyle= :dashdotdot,legend=false)\n",
    "xlabel!(\"Noise \\$\\\\delta\\$\")\n",
    "ylabel!(\"Energy of the bulk states\")\n",
    "savefig(\"exact_effec_4_2000.png\")"
   ]
  },
  {
   "cell_type": "code",
   "execution_count": 4,
   "id": "bc5139d8",
   "metadata": {},
   "outputs": [],
   "source": [
    "#plot(y_seom,lw=2, color = \"red\", label =\"\" )"
   ]
  }
 ],
 "metadata": {
  "kernelspec": {
   "display_name": "Julia 1.8.1",
   "language": "julia",
   "name": "julia-1.8"
  },
  "language_info": {
   "file_extension": ".jl",
   "mimetype": "application/julia",
   "name": "julia",
   "version": "1.8.1"
  }
 },
 "nbformat": 4,
 "nbformat_minor": 5
}
